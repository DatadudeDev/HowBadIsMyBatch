{
 "cells": [
  {
   "cell_type": "code",
   "execution_count": null,
   "id": "9de5907f-18f5-4cb1-903e-26028ff1fa03",
   "metadata": {},
   "outputs": [],
   "source": [
    "import numpy as np\n",
    "import pandas as pd\n",
    "\n",
    "pd.set_option('display.max_rows', 100)\n",
    "pd.set_option('display.max_columns', None)"
   ]
  },
  {
   "cell_type": "code",
   "execution_count": null,
   "id": "7b5d6df0",
   "metadata": {},
   "outputs": [],
   "source": [
    "def _createDataFrame(vaersDescrs, manufacturer):\n",
    "    def vaersDescr2DataFrame(vaersDescr):\n",
    "        return pd.merge(vaersDescr['VAERSDATA'], vaersDescr['VAERSVAX'], left_index = True, right_index = True)\n",
    "\n",
    "    df = pd.concat(map(vaersDescr2DataFrame, vaersDescrs))\n",
    "    return df[(df[\"VAX_TYPE\"] == \"COVID19\") & (df[\"VAX_MANU\"] == manufacturer)]"
   ]
  },
  {
   "cell_type": "code",
   "execution_count": null,
   "id": "233bc590",
   "metadata": {},
   "outputs": [],
   "source": [
    "def createDataFrame(dataDir, manufacturer):\n",
    "    def readVaersDescr(year):\n",
    "        def read_csv(file, usecols):\n",
    "            return pd.read_csv(file, index_col = 'VAERS_ID', encoding = 'latin1', low_memory = False, usecols = usecols)\n",
    "\n",
    "        folder = dataDir + \"/\" + year + \"VAERSData/\"\n",
    "        return {\n",
    "            'VAERSDATA': read_csv(folder + year + \"VAERSDATA.csv\", ['VAERS_ID', 'DIED', 'L_THREAT', 'DISABLE']),\n",
    "            'VAERSVAX': read_csv(folder + year + \"VAERSVAX.csv\", ['VAERS_ID', 'VAX_TYPE', 'VAX_MANU', 'VAX_LOT'])\n",
    "            }\n",
    "\n",
    "    return _createDataFrame(\n",
    "        [readVaersDescr(\"2021\"), readVaersDescr(\"2022\")],\n",
    "        manufacturer)"
   ]
  },
  {
   "cell_type": "code",
   "execution_count": null,
   "id": "99945ca8",
   "metadata": {},
   "outputs": [],
   "source": [
    "def createBatchCodeTable(df : pd.DataFrame):\n",
    "    def filter(df, col):\n",
    "        return df[df[col] == 'Y'][['VAX_LOT']]\n",
    "\n",
    "    batchCodeTableDict = {\n",
    "        'ADRs': df[['VAX_LOT']].value_counts(),\n",
    "        'DEATHS': filter(df, 'DIED').value_counts(),\n",
    "        'DISABILITIES': filter(df, 'DISABLE').value_counts(),\n",
    "        'LIFE THREATENING ILLNESSES': filter(df, 'L_THREAT').value_counts()\n",
    "    }\n",
    "    return pd.concat(batchCodeTableDict, axis = 1).replace(to_replace = np.nan, value = 0)\n"
   ]
  },
  {
   "cell_type": "code",
   "execution_count": null,
   "id": "3dacedfd",
   "metadata": {},
   "outputs": [],
   "source": [
    "import unittest"
   ]
  },
  {
   "cell_type": "code",
   "execution_count": null,
   "id": "e14465d7",
   "metadata": {},
   "outputs": [],
   "source": [
    "from pandas.testing import assert_frame_equal\n",
    "\n",
    "class BatchCodeTableTest(unittest.TestCase):\n",
    "\n",
    "    def test_createBatchCodeTable2(self):\n",
    "        vaersData2021 = pd.DataFrame(columns = ['DIED', 'L_THREAT', 'DISABLE'], index = ['0916600', '0916601'])\n",
    "        vaersData2021.loc['0916600'] = pd.Series({'DIED': 'Y',    'L_THREAT': np.NaN, 'DISABLE': np.NaN})\n",
    "        vaersData2021.loc['0916601'] = pd.Series({'DIED': np.NaN, 'L_THREAT': np.NaN, 'DISABLE': 'Y'})\n",
    "\n",
    "        vaersVax2021 = pd.DataFrame(columns = ['VAX_TYPE', 'VAX_MANU', 'VAX_LOT'], index = ['0916600', '0916601'])\n",
    "        vaersVax2021.loc['0916600'] = pd.Series({'VAX_TYPE': 'COVID19', 'VAX_MANU': 'MODERNA', 'VAX_LOT': '037K20A'})\n",
    "        vaersVax2021.loc['0916601'] = pd.Series({'VAX_TYPE': 'COVID19', 'VAX_MANU': 'MODERNA', 'VAX_LOT': '025L20A'})\n",
    "\n",
    "        vaersData2022 = pd.DataFrame(columns = ['DIED', 'L_THREAT', 'DISABLE'], index = ['1996873', '1996874'])\n",
    "        vaersData2022.loc['1996873'] = pd.Series({'DIED': np.NaN, 'L_THREAT': np.NaN, 'DISABLE': np.NaN})\n",
    "        vaersData2022.loc['1996874'] = pd.Series({'DIED': np.NaN, 'L_THREAT': np.NaN, 'DISABLE': 'Y'})\n",
    "\n",
    "        vaersVax2022 = pd.DataFrame(columns = ['VAX_TYPE', 'VAX_MANU', 'VAX_LOT'], index = ['1996873', '1996874'])\n",
    "        vaersVax2022.loc['1996873'] = pd.Series({'VAX_TYPE': 'HPV9',    'VAX_MANU': 'MERCK & CO. INC.', 'VAX_LOT': 'R017624'})\n",
    "        vaersVax2022.loc['1996874'] = pd.Series({'VAX_TYPE': 'COVID19', 'VAX_MANU': 'MODERNA', 'VAX_LOT': '025L20A'})\n",
    "        \n",
    "        dataFrame = _createDataFrame(\n",
    "            [\n",
    "                {'VAERSDATA': vaersData2021, 'VAERSVAX': vaersVax2021},\n",
    "                {'VAERSDATA': vaersData2022, 'VAERSVAX': vaersVax2022}\n",
    "            ],\n",
    "            \"MODERNA\")\n",
    "\n",
    "        self._test_createBatchCodeTable(dataFrame);\n",
    "    \n",
    "    def test_createBatchCodeTable(self):\n",
    "        self._test_createBatchCodeTable(createDataFrame(\"test/VAERS\", \"MODERNA\"));\n",
    "\n",
    "    def _test_createBatchCodeTable(self, dataFrame):\n",
    "        # When\n",
    "        batchCodeTable = createBatchCodeTable(dataFrame)\n",
    "\n",
    "        # Then\n",
    "        batchCodeTableExpected = pd.DataFrame(\n",
    "            data = {\n",
    "                'ADRs': [2, 1],\n",
    "                'DEATHS': [0, 1],\n",
    "                'DISABILITIES': [2, 0],\n",
    "                'LIFE THREATENING ILLNESSES': [0, 0]\n",
    "            },\n",
    "            index = pd.MultiIndex.from_arrays([['025L20A', '037K20A']], names = ('VAX_LOT',)))\n",
    "        assert_frame_equal(batchCodeTable, batchCodeTableExpected, check_dtype = False)\n",
    "\n",
    "        "
   ]
  },
  {
   "cell_type": "code",
   "execution_count": null,
   "id": "5a8bff1b",
   "metadata": {},
   "outputs": [],
   "source": [
    "unittest.main(argv = [''], verbosity = 2, exit = False)"
   ]
  },
  {
   "cell_type": "code",
   "execution_count": null,
   "id": "86e0e4f2",
   "metadata": {},
   "outputs": [],
   "source": [
    "def saveBatchCodeTable(manufacturer, excelFile):\n",
    "    batchCodeTable = createBatchCodeTable(createDataFrame(\"VAERS\", manufacturer))\n",
    "    display(manufacturer, batchCodeTable)\n",
    "    batchCodeTable.to_excel(excelFile)"
   ]
  },
  {
   "cell_type": "code",
   "execution_count": null,
   "id": "ab170c16",
   "metadata": {},
   "outputs": [],
   "source": [
    "saveBatchCodeTable(\"MODERNA\", \"results/moderna.xlsx\")\n",
    "saveBatchCodeTable(\"PFIZER\\BIONTECH\", \"results/pfizer.xlsx\")\n",
    "saveBatchCodeTable(\"JANSSEN\", \"results/janssen.xlsx\")"
   ]
  }
 ],
 "metadata": {
  "kernelspec": {
   "display_name": "Python 3 (ipykernel)",
   "language": "python",
   "name": "python3"
  },
  "language_info": {
   "codemirror_mode": {
    "name": "ipython",
    "version": 3
   },
   "file_extension": ".py",
   "mimetype": "text/x-python",
   "name": "python",
   "nbconvert_exporter": "python",
   "pygments_lexer": "ipython3",
   "version": "3.9.7"
  }
 },
 "nbformat": 4,
 "nbformat_minor": 5
}
