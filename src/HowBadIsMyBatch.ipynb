{
 "cells": [
  {
   "cell_type": "code",
   "execution_count": null,
   "id": "9de5907f-18f5-4cb1-903e-26028ff1fa03",
   "metadata": {},
   "outputs": [],
   "source": [
    "import numpy as np\n",
    "import pandas as pd\n",
    "\n",
    "pd.set_option('display.max_rows', 100)\n",
    "pd.set_option('display.max_columns', None)"
   ]
  },
  {
   "cell_type": "code",
   "execution_count": null,
   "id": "d1e4fa9e",
   "metadata": {},
   "outputs": [],
   "source": [
    "from datetime import datetime\n",
    "\n",
    "print(datetime.now().strftime(\"%d.%m.%Y, %H:%M:%S Uhr\"))"
   ]
  },
  {
   "cell_type": "code",
   "execution_count": null,
   "id": "ffad1c04",
   "metadata": {},
   "outputs": [],
   "source": [
    "from DateProvider import DateProvider\n",
    "dateProvider = DateProvider()\n",
    "print('          lastUpdated:', dateProvider.getLastUpdated())\n",
    "print('lastUpdatedDataSource:', dateProvider.getLastUpdatedDataSource())        \n",
    "needsUpdate = dateProvider.needsUpdate()\n",
    "print('needsUpdate:', needsUpdate)"
   ]
  },
  {
   "cell_type": "code",
   "execution_count": null,
   "id": "e673b947",
   "metadata": {},
   "outputs": [],
   "source": [
    "def getWorkingDirectory():\n",
    "    pwd = ! \"pwd\"\n",
    "    return pwd[0]"
   ]
  },
  {
   "cell_type": "code",
   "execution_count": null,
   "id": "e313a06c",
   "metadata": {},
   "outputs": [],
   "source": [
    "pwd = getWorkingDirectory()"
   ]
  },
  {
   "cell_type": "code",
   "execution_count": null,
   "id": "501f6c7b",
   "metadata": {},
   "outputs": [],
   "source": [
    "pwd"
   ]
  },
  {
   "cell_type": "markdown",
   "id": "9514f5be",
   "metadata": {},
   "source": [
    "## Download VAERS-Data"
   ]
  },
  {
   "cell_type": "code",
   "execution_count": null,
   "id": "9ccc73b3",
   "metadata": {},
   "outputs": [],
   "source": [
    "from VAERSFileDownloader import downloadVAERSFile\n",
    "from zipUtils import unzipAndRemove\n",
    "\n",
    "def downloadVAERSFileAndUnzip(file):\n",
    "    downloadedFile = downloadVAERSFile(file, getWorkingDirectory() + \"/VAERS/tmp\")\n",
    "    unzipAndRemove(\n",
    "        zipFile = downloadedFile,\n",
    "        dstDir = getWorkingDirectory() + '/VAERS/')\n"
   ]
  },
  {
   "cell_type": "code",
   "execution_count": null,
   "id": "9a9e4d1e",
   "metadata": {},
   "outputs": [],
   "source": [
    "if needsUpdate:\n",
    "    downloadVAERSFileAndUnzip('2022VAERSData.zip')\n",
    "    downloadVAERSFileAndUnzip('NonDomesticVAERSData.zip')"
   ]
  },
  {
   "cell_type": "code",
   "execution_count": null,
   "id": "3ebcba86",
   "metadata": {},
   "outputs": [],
   "source": [
    "from DataFrameFilter import DataFrameFilter"
   ]
  },
  {
   "cell_type": "code",
   "execution_count": null,
   "id": "71456a79",
   "metadata": {},
   "outputs": [],
   "source": [
    "from BatchCodeTableFactory import BatchCodeTableFactory"
   ]
  },
  {
   "cell_type": "code",
   "execution_count": null,
   "id": "4db36933",
   "metadata": {},
   "outputs": [],
   "source": [
    "from HtmlTransformerUtil import HtmlTransformerUtil"
   ]
  },
  {
   "cell_type": "code",
   "execution_count": null,
   "id": "32d4eecf",
   "metadata": {},
   "outputs": [],
   "source": [
    "from CountryOptionsSetter import CountryOptionsSetter"
   ]
  },
  {
   "cell_type": "code",
   "execution_count": null,
   "id": "2f0f9b4b",
   "metadata": {},
   "outputs": [],
   "source": [
    "from bs4 import BeautifulSoup\n",
    "\n",
    "\n",
    "def saveCountryOptions(countryOptions):\n",
    "    HtmlTransformerUtil().applySoupTransformerToFile(\n",
    "        file = \"../docs/batchCodeTable.html\",\n",
    "        soupTransformer =\n",
    "            lambda soup:\n",
    "                BeautifulSoup(\n",
    "                    CountryOptionsSetter().setCountryOptions(html = str(soup), options = countryOptions),\n",
    "                    'lxml'))\n"
   ]
  },
  {
   "cell_type": "code",
   "execution_count": null,
   "id": "f02dddfe",
   "metadata": {},
   "outputs": [],
   "source": [
    "def saveLastUpdatedBatchCodeTable(lastUpdated):\n",
    "    def setLastUpdated(soup):\n",
    "        soup.find(id = \"last_updated\").string.replace_with(lastUpdated.strftime(DateProvider.DATE_FORMAT))\n",
    "        return soup\n",
    "\n",
    "    HtmlTransformerUtil().applySoupTransformerToFile(\n",
    "        file = \"../docs/batchCodeTable.html\",\n",
    "        soupTransformer = setLastUpdated)"
   ]
  },
  {
   "cell_type": "code",
   "execution_count": null,
   "id": "6aa28541",
   "metadata": {},
   "outputs": [],
   "source": [
    "from IOUtils import IOUtils"
   ]
  },
  {
   "cell_type": "code",
   "execution_count": null,
   "id": "86e0e4f2",
   "metadata": {},
   "outputs": [],
   "source": [
    "from VaersReader import getVaersForYears, getNonDomesticVaers"
   ]
  },
  {
   "cell_type": "code",
   "execution_count": null,
   "id": "781ac80e",
   "metadata": {},
   "outputs": [],
   "source": [
    "internationalVaers = pd.concat([getVaersForYears([2020, 2021, 2022]), getNonDomesticVaers()])\n",
    "internationalVaersCovid19 = DataFrameFilter().filterByCovid19(internationalVaers)\n",
    "internationalVaersCovid19"
   ]
  },
  {
   "cell_type": "code",
   "execution_count": null,
   "id": "ff259a35",
   "metadata": {},
   "outputs": [],
   "source": [
    "def createAndSaveBatchCodeTableForCountry(createBatchCodeTableForCountry, country, minADRsForLethality = None):\n",
    "    batchCodeTable = createBatchCodeTableForCountry(country)\n",
    "    batchCodeTable.index.set_names(\"Batch\", inplace = True)\n",
    "    if minADRsForLethality is not None:\n",
    "        batchCodeTable.loc[batchCodeTable['Adverse Reaction Reports'] < minADRsForLethality, ['Severe reports', 'Lethality']] = [np.nan, np.nan]\n",
    "    IOUtils.saveDataFrame(batchCodeTable, '../docs/data/batchCodeTables/' + country)\n",
    "    # display(country + \":\", batchCodeTable)\n",
    "    display(country)\n",
    "\n",
    "def createAndSaveBatchCodeTablesForCountries(createBatchCodeTableForCountry, countries, minADRsForLethality = None):\n",
    "    for country in countries:\n",
    "        createAndSaveBatchCodeTableForCountry(createBatchCodeTableForCountry, country, minADRsForLethality)"
   ]
  },
  {
   "cell_type": "code",
   "execution_count": null,
   "id": "cc1ef82a",
   "metadata": {},
   "outputs": [],
   "source": [
    "def getCountryOptions(countries):\n",
    "    return [getCountryOption(country) for country in countries]\n",
    "\n",
    "def getCountryOption(country):\n",
    "    return '<option value=\"{country}\">{country}</option>'.format(country = country)"
   ]
  },
  {
   "cell_type": "code",
   "execution_count": null,
   "id": "0c4d04fb",
   "metadata": {},
   "outputs": [],
   "source": [
    "countries = sorted(internationalVaersCovid19['COUNTRY'].unique())\n",
    "countryOptions = ['<option value=\"Global\" selected>Global</option>']  + getCountryOptions(countries)"
   ]
  },
  {
   "cell_type": "code",
   "execution_count": null,
   "id": "8d6507ca",
   "metadata": {},
   "outputs": [],
   "source": [
    "saveCountryOptions(countryOptions)"
   ]
  },
  {
   "cell_type": "code",
   "execution_count": null,
   "id": "9c7485b5",
   "metadata": {},
   "outputs": [],
   "source": [
    "saveLastUpdatedBatchCodeTable(dateProvider.getLastUpdatedDataSource())"
   ]
  },
  {
   "cell_type": "code",
   "execution_count": null,
   "id": "7e7e01a5",
   "metadata": {},
   "outputs": [],
   "source": [
    "minADRsForLethality = 100\n",
    "batchCodeTableFactory = BatchCodeTableFactory(internationalVaersCovid19)\n",
    "\n",
    "createAndSaveBatchCodeTablesForCountries(\n",
    "    createBatchCodeTableForCountry = lambda country: batchCodeTableFactory.createBatchCodeTableByCountry(country),\n",
    "    countries = countries,\n",
    "    minADRsForLethality = minADRsForLethality)\n",
    "\n",
    "createAndSaveBatchCodeTableForCountry(\n",
    "    createBatchCodeTableForCountry = lambda country: batchCodeTableFactory.createGlobalBatchCodeTable(),\n",
    "    country = 'Global',\n",
    "    minADRsForLethality = minADRsForLethality)"
   ]
  },
  {
   "cell_type": "code",
   "execution_count": null,
   "id": "8de69f66",
   "metadata": {},
   "outputs": [],
   "source": [
    "def publishGitHubPages():\n",
    "    %cd /home/frankknoll/Dokumente/Corona/projects/HowBadIsMyBatch-pages\n",
    "    ! git add -A\n",
    "    ! git commit -m \"updating data for batch codes\"\n",
    "    ! git push"
   ]
  },
  {
   "cell_type": "markdown",
   "id": "3c7319f3",
   "metadata": {},
   "source": [
    "### see https://knollfrank.github.io/HowBadIsMyBatch/batchCodeTable.html"
   ]
  },
  {
   "cell_type": "code",
   "execution_count": null,
   "id": "865df645",
   "metadata": {},
   "outputs": [],
   "source": [
    "publishGitHubPages()"
   ]
  }
 ],
 "metadata": {
  "kernelspec": {
   "display_name": "Python 3.10.7 64-bit",
   "language": "python",
   "name": "python3"
  },
  "language_info": {
   "codemirror_mode": {
    "name": "ipython",
    "version": 3
   },
   "file_extension": ".py",
   "mimetype": "text/x-python",
   "name": "python",
   "nbconvert_exporter": "python",
   "pygments_lexer": "ipython3",
   "version": "3.10.7"
  },
  "vscode": {
   "interpreter": {
    "hash": "916dbcbb3f70747c44a77c7bcd40155683ae19c65e1c03b4aa3499c5328201f1"
   }
  }
 },
 "nbformat": 4,
 "nbformat_minor": 5
}
