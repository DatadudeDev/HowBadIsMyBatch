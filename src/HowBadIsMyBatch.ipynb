{
 "cells": [
  {
   "cell_type": "code",
   "execution_count": null,
   "id": "9de5907f-18f5-4cb1-903e-26028ff1fa03",
   "metadata": {},
   "outputs": [],
   "source": [
    "import numpy as np\n",
    "import pandas as pd\n",
    "\n",
    "pd.set_option('display.max_rows', 100)\n",
    "pd.set_option('display.max_columns', None)"
   ]
  },
  {
   "cell_type": "code",
   "execution_count": null,
   "id": "d1e4fa9e",
   "metadata": {},
   "outputs": [],
   "source": [
    "from datetime import datetime\n",
    "\n",
    "print(datetime.now().strftime(\"%d.%m.%Y, %H:%M:%S Uhr\"))"
   ]
  },
  {
   "cell_type": "code",
   "execution_count": null,
   "id": "ffad1c04",
   "metadata": {},
   "outputs": [],
   "source": [
    "from DateProvider import DateProvider\n",
    "dateProvider = DateProvider()\n",
    "print('          lastUpdated:', dateProvider.getLastUpdated())\n",
    "print('lastUpdatedDataSource:', dateProvider.getLastUpdatedDataSource())        \n",
    "needsUpdate = dateProvider.needsUpdate()\n",
    "print('needsUpdate:', needsUpdate)"
   ]
  },
  {
   "cell_type": "code",
   "execution_count": null,
   "id": "e673b947",
   "metadata": {},
   "outputs": [],
   "source": [
    "def getWorkingDirectory():\n",
    "    pwd = ! \"pwd\"\n",
    "    return pwd[0]"
   ]
  },
  {
   "cell_type": "code",
   "execution_count": null,
   "id": "e313a06c",
   "metadata": {},
   "outputs": [],
   "source": [
    "pwd = getWorkingDirectory()"
   ]
  },
  {
   "cell_type": "code",
   "execution_count": null,
   "id": "501f6c7b",
   "metadata": {},
   "outputs": [],
   "source": [
    "pwd"
   ]
  },
  {
   "cell_type": "markdown",
   "id": "9514f5be",
   "metadata": {},
   "source": [
    "## Download VAERS-Data"
   ]
  },
  {
   "cell_type": "code",
   "execution_count": null,
   "id": "8f0bfb9c",
   "metadata": {},
   "outputs": [],
   "source": [
    "import os\n",
    "import time\n",
    "\n",
    "class AndroidEmulator:\n",
    "    \n",
    "    @staticmethod\n",
    "    def run(runnable):\n",
    "        AndroidEmulator._start()\n",
    "        result = runnable()\n",
    "        AndroidEmulator._stop()\n",
    "        return result\n",
    "    \n",
    "    @staticmethod\n",
    "    def _start():\n",
    "        os.system(\"/home/frankknoll/Android/Sdk/emulator/emulator -avd Pixel_2_API_30 -no-window &\")\n",
    "        AndroidEmulator._waitUntilStarted()\n",
    "        \n",
    "    @staticmethod\n",
    "    def _waitUntilStarted():\n",
    "        while not AndroidEmulator._isStarted():\n",
    "            time.sleep(1)\n",
    "\n",
    "    @staticmethod\n",
    "    def _isStarted():\n",
    "        boot_completed = ! adb shell getprop sys.boot_completed\n",
    "        return boot_completed[0] == '1'\n",
    "\n",
    "    @staticmethod\n",
    "    def _stop():\n",
    "        ! adb emu kill"
   ]
  },
  {
   "cell_type": "code",
   "execution_count": null,
   "id": "777ff543",
   "metadata": {},
   "outputs": [],
   "source": [
    "from selenium import webdriver\n",
    "from webdriver_manager.chrome import ChromeDriverManager\n",
    "from selenium.webdriver.chrome.service import Service as ChromeService\n",
    "from selenium.webdriver.chrome.options import Options\n",
    "from selenium.webdriver.common.by import By\n",
    "\n",
    "def _getOptions(downloadDir, isHeadless):\n",
    "    options = Options()\n",
    "    options.headless = isHeadless\n",
    "    options.add_experimental_option(\"prefs\", {\"download.default_directory\" : downloadDir})\n",
    "    return options\n",
    "\n",
    "def getWebDriver(downloadDir, isHeadless):\n",
    "    return webdriver.Chrome(\n",
    "        service = ChromeService(executable_path = ChromeDriverManager().install()),\n",
    "        options = _getOptions(downloadDir, isHeadless))\n",
    "\n",
    "def saveCaptchaImageAs(driver, captchaImageFile):\n",
    "    captchaImage = driver.find_element(By.CSS_SELECTOR, \"img[src='captchaImage']\")\n",
    "    with open(captchaImageFile, 'wb') as file:\n",
    "        file.write(captchaImage.screenshot_as_png)\n",
    "\n",
    "def existsElementWithId(driver, id):\n",
    "    return len(driver.find_elements(By.ID, id)) > 0\n",
    "\n",
    "def isCaptchaSolved(driver):\n",
    "    return not existsElementWithId(driver, \"wordverify\")\n"
   ]
  },
  {
   "cell_type": "code",
   "execution_count": null,
   "id": "da7c965a",
   "metadata": {},
   "outputs": [],
   "source": [
    "import time\n",
    "import os\n",
    "\n",
    "def waitUntilDownloadHasFinished(file):\n",
    "    while not os.path.exists(file):\n",
    "        time.sleep(2)"
   ]
  },
  {
   "cell_type": "code",
   "execution_count": null,
   "id": "d9b72506",
   "metadata": {},
   "outputs": [],
   "source": [
    "import numpy as np\n",
    "import tensorflow as tf\n",
    "from tensorflow import keras\n",
    "from tensorflow.keras import layers\n",
    "from PIL import Image\n",
    "import numpy as np\n",
    "import io\n",
    "\n",
    "# copied from value of characters variable in captcha_ocr.ipynb or captcha_ocr_trainAndSaveModel.ipynb\n",
    "characters = ['0', '1', '2', '3', '4', '5', '6', '7', '8', '9', 'A', 'B', 'C', 'D', 'E', 'F', 'a', 'b', 'c', 'd', 'e', 'f']\n",
    "\n",
    "img_width = 241\n",
    "img_height = 62\n",
    "\n",
    "downsample_factor = 4\n",
    "\n",
    "# copied from value of max_length variable in captcha_ocr.ipynb or captcha_ocr_trainAndSaveModel.ipynb\n",
    "max_length = 6\n",
    "\n",
    "char_to_num = layers.StringLookup(\n",
    "    vocabulary=list(characters),\n",
    "    mask_token=None)\n",
    "\n",
    "num_to_char = layers.StringLookup(\n",
    "    vocabulary=char_to_num.get_vocabulary(),\n",
    "    mask_token=None, invert=True)\n",
    "\n",
    "def encode_single_sample(img_path):\n",
    "    # 1. Read image\n",
    "    img = tf.io.read_file(img_path)\n",
    "    # 2. Decode and convert to grayscale\n",
    "    img = tf.io.decode_png(img, channels=1)\n",
    "    # 3. Convert to float32 in [0, 1] range\n",
    "    img = tf.image.convert_image_dtype(img, tf.float32)\n",
    "    # 4. Resize to the desired size\n",
    "    img = tf.image.resize(img, [img_height, img_width])\n",
    "    # 5. Transpose the image because we want the time\n",
    "    # dimension to correspond to the width of the image.\n",
    "    img = tf.transpose(img, perm=[1, 0, 2])\n",
    "    # 7. Return a dict as our model is expecting two inputs\n",
    "    return asSingleSampleBatch(img)\n",
    "\n",
    "def asSingleSampleBatch(img):\n",
    "    array = keras.utils.img_to_array(img)\n",
    "    array = np.expand_dims(array, axis=0)\n",
    "    return array\n",
    "\n",
    "def decode_batch_predictions(pred):\n",
    "    input_len = np.ones(pred.shape[0]) * pred.shape[1]\n",
    "    # Use greedy search. For complex tasks, you can use beam search\n",
    "    results = keras.backend.ctc_decode(pred, input_length=input_len, greedy=True)[0][0][:, :max_length]\n",
    "    # Iterate over the results and get back the text\n",
    "    output_text = []\n",
    "    for res in results:\n",
    "        res = tf.strings.reduce_join(num_to_char(res)).numpy().decode(\"utf-8\")\n",
    "        output_text.append(res)\n",
    "    return output_text\n",
    "\n",
    "def load_model():\n",
    "    _model = keras.models.load_model('model')\n",
    "    model = keras.models.Model(\n",
    "        _model.get_layer(name=\"image\").input,\n",
    "        _model.get_layer(name=\"dense2\").output)\n",
    "    return model\n",
    "\n",
    "def getTextInCaptchaImage(captchaImageFile):\n",
    "    batchImages = encode_single_sample(captchaImageFile)\n",
    "    preds = model.predict(batchImages)\n",
    "    return decode_batch_predictions(preds)[0]\n",
    "\n",
    "print(\"loading model...\")\n",
    "model = load_model()\n",
    "model.summary()"
   ]
  },
  {
   "cell_type": "code",
   "execution_count": null,
   "id": "918d088d",
   "metadata": {},
   "outputs": [],
   "source": [
    "import os\n",
    "\n",
    "#def getTextInCaptchaImage(captchaImageFile):\n",
    "#    baseDir = \"~/AndroidStudioProjects/TextRecognizer\"\n",
    "#    ! cp $captchaImageFile $baseDir/app/src/main/assets/captchas/captcha_image.jpeg\n",
    "#    ! cd $baseDir;./gradlew connectedAndroidTest\n",
    "#    textInCaptchaImage = ! adb shell \"run-as org.textrecognizer cat /data/data/org.textrecognizer/files/captcha_image.txt\"\n",
    "#    return textInCaptchaImage[0]\n",
    "    \n",
    "def solveCaptchaAndStartFileDownload(driver, captchaImageFile):\n",
    "    saveCaptchaImageAs(driver, captchaImageFile)\n",
    "    textInCaptchaImage = getTextInCaptchaImage(captchaImageFile)\n",
    "    display('textInCaptchaImage: ', textInCaptchaImage)\n",
    "    driver.find_element(By.ID, \"verificationCode\").send_keys(textInCaptchaImage)\n",
    "    driver.find_element(By.CSS_SELECTOR, '[name=\"downloadbut\"]').click()\n",
    "\n",
    "def downloadFile(absoluteFile, driver, maxTries):\n",
    "    def _downloadFile():\n",
    "        driver.get('https://vaers.hhs.gov/eSubDownload/index.jsp?fn=' + os.path.basename(absoluteFile))\n",
    "        solveCaptchaAndStartFileDownload(driver, 'captchaImage.jpeg')\n",
    "\n",
    "    numTries = 1\n",
    "    _downloadFile()\n",
    "    while(not isCaptchaSolved(driver) and (maxTries is None or numTries < maxTries)):\n",
    "        _downloadFile()\n",
    "        numTries = numTries + 1\n",
    "\n",
    "    if isCaptchaSolved(driver):\n",
    "        waitUntilDownloadHasFinished(absoluteFile)\n",
    "        return absoluteFile\n",
    "    else:\n",
    "        return None\n",
    "\n",
    "def downloadVAERSFile(file, downloadDir):\n",
    "    driver = getWebDriver(downloadDir, isHeadless = True)\n",
    "    downloadedFile = downloadFile(\n",
    "        absoluteFile = downloadDir + \"/\" + file,\n",
    "        driver = driver,\n",
    "        maxTries = None)\n",
    "    driver.quit()\n",
    "    return downloadedFile"
   ]
  },
  {
   "cell_type": "code",
   "execution_count": null,
   "id": "9ccc73b3",
   "metadata": {},
   "outputs": [],
   "source": [
    "import zipfile\n",
    "import os\n",
    "\n",
    "def unzip(zipFile, dstDir):\n",
    "    with zipfile.ZipFile(zipFile, 'r') as zip_ref:\n",
    "        zip_ref.extractall(dstDir)\n",
    "\n",
    "def unzipAndRemove(zipFile, dstDir):\n",
    "    unzip(zipFile, dstDir)\n",
    "    os.remove(zipFile)\n",
    "\n",
    "def downloadVAERSFileAndUnzip(file):\n",
    "    downloadedFile = downloadVAERSFile(file, getWorkingDirectory() + \"/VAERS/tmp\")\n",
    "    unzipAndRemove(\n",
    "        zipFile = downloadedFile,\n",
    "        dstDir = getWorkingDirectory() + '/VAERS/')\n"
   ]
  },
  {
   "cell_type": "code",
   "execution_count": null,
   "id": "9a9e4d1e",
   "metadata": {},
   "outputs": [],
   "source": [
    "if needsUpdate:\n",
    "    downloadVAERSFileAndUnzip('2022VAERSData.zip')\n",
    "    downloadVAERSFileAndUnzip('NonDomesticVAERSData.zip')"
   ]
  },
  {
   "cell_type": "code",
   "execution_count": null,
   "id": "a271254b",
   "metadata": {},
   "outputs": [],
   "source": [
    "from VaersDescrReader import VaersDescrReader\n"
   ]
  },
  {
   "cell_type": "code",
   "execution_count": null,
   "id": "7b5d6df0",
   "metadata": {},
   "outputs": [],
   "source": [
    "from VaersDescr2DataFrameConverter import VaersDescr2DataFrameConverter"
   ]
  },
  {
   "cell_type": "code",
   "execution_count": null,
   "id": "6b639196",
   "metadata": {},
   "outputs": [],
   "source": [
    "from DataFrameNormalizer import DataFrameNormalizer"
   ]
  },
  {
   "cell_type": "code",
   "execution_count": null,
   "id": "3ebcba86",
   "metadata": {},
   "outputs": [],
   "source": [
    "from DataFrameFilter import DataFrameFilter"
   ]
  },
  {
   "cell_type": "code",
   "execution_count": null,
   "id": "c40bd0f0",
   "metadata": {},
   "outputs": [],
   "source": [
    "from CountryColumnAdder import CountryColumnAdder"
   ]
  },
  {
   "cell_type": "code",
   "execution_count": null,
   "id": "3abe3384",
   "metadata": {},
   "outputs": [],
   "source": [
    "from SevereColumnAdder import SevereColumnAdder"
   ]
  },
  {
   "cell_type": "code",
   "execution_count": null,
   "id": "71456a79",
   "metadata": {},
   "outputs": [],
   "source": [
    "from BatchCodeTableFactory import BatchCodeTableFactory"
   ]
  },
  {
   "cell_type": "code",
   "execution_count": null,
   "id": "4db36933",
   "metadata": {},
   "outputs": [],
   "source": [
    "from HtmlTransformerUtil import HtmlTransformerUtil"
   ]
  },
  {
   "cell_type": "code",
   "execution_count": null,
   "id": "32d4eecf",
   "metadata": {},
   "outputs": [],
   "source": [
    "from CountryOptionsSetter import CountryOptionsSetter"
   ]
  },
  {
   "cell_type": "code",
   "execution_count": null,
   "id": "2f0f9b4b",
   "metadata": {},
   "outputs": [],
   "source": [
    "from bs4 import BeautifulSoup\n",
    "\n",
    "\n",
    "def saveCountryOptions(countryOptions):\n",
    "    HtmlTransformerUtil().applySoupTransformerToFile(\n",
    "        file = \"../docs/batchCodeTable.html\",\n",
    "        soupTransformer =\n",
    "            lambda soup:\n",
    "                BeautifulSoup(\n",
    "                    CountryOptionsSetter().setCountryOptions(html = str(soup), options = countryOptions),\n",
    "                    'lxml'))\n"
   ]
  },
  {
   "cell_type": "code",
   "execution_count": null,
   "id": "f02dddfe",
   "metadata": {},
   "outputs": [],
   "source": [
    "def saveLastUpdatedBatchCodeTable(lastUpdated):\n",
    "    def setLastUpdated(soup):\n",
    "        soup.find(id = \"last_updated\").string.replace_with(lastUpdated.strftime(DateProvider.DATE_FORMAT))\n",
    "        return soup\n",
    "\n",
    "    HtmlTransformerUtil().applySoupTransformerToFile(\n",
    "        file = \"../docs/batchCodeTable.html\",\n",
    "        soupTransformer = setLastUpdated)"
   ]
  },
  {
   "cell_type": "code",
   "execution_count": null,
   "id": "6aa28541",
   "metadata": {},
   "outputs": [],
   "source": [
    "from IOUtils import IOUtils"
   ]
  },
  {
   "cell_type": "code",
   "execution_count": null,
   "id": "86e0e4f2",
   "metadata": {},
   "outputs": [],
   "source": [
    "def getVaersForYears(years):\n",
    "    def addCountryColumn(dataFrame):\n",
    "        dataFrame['COUNTRY'] = 'United States'\n",
    "        return dataFrame\n",
    "\n",
    "    return _getVaers(\n",
    "        _getVaersDescrReader().readVaersDescrsForYears(years),\n",
    "        addCountryColumn)\n",
    "\n",
    "def getNonDomesticVaers():\n",
    "    return _getVaers(\n",
    "        [_getVaersDescrReader().readNonDomesticVaersDescr()],\n",
    "        CountryColumnAdder.addCountryColumn)\n",
    "\n",
    "def _getVaersDescrReader():\n",
    "    return VaersDescrReader(dataDir = \"VAERS\")\n",
    "\n",
    "def _getVaers(vaersDescrs, addCountryColumn):\n",
    "    dataFrame = VaersDescr2DataFrameConverter.createDataFrameFromDescrs(vaersDescrs)\n",
    "    dataFrame = addCountryColumn(dataFrame)\n",
    "    DataFrameNormalizer.normalize(dataFrame)\n",
    "    dataFrame = SevereColumnAdder.addSevereColumn(dataFrame)\n",
    "    return dataFrame"
   ]
  },
  {
   "cell_type": "code",
   "execution_count": null,
   "id": "781ac80e",
   "metadata": {},
   "outputs": [],
   "source": [
    "internationalVaers = pd.concat([getVaersForYears([2020, 2021, 2022]), getNonDomesticVaers()])\n",
    "internationalVaersCovid19 = DataFrameFilter().filterByCovid19(internationalVaers)\n",
    "internationalVaersCovid19"
   ]
  },
  {
   "cell_type": "code",
   "execution_count": null,
   "id": "ff259a35",
   "metadata": {},
   "outputs": [],
   "source": [
    "def createAndSaveBatchCodeTableForCountry(createBatchCodeTableForCountry, country, minADRsForLethality = None):\n",
    "    batchCodeTable = createBatchCodeTableForCountry(country)\n",
    "    batchCodeTable.index.set_names(\"Batch\", inplace = True)\n",
    "    if minADRsForLethality is not None:\n",
    "        batchCodeTable.loc[batchCodeTable['Adverse Reaction Reports'] < minADRsForLethality, ['Severe reports', 'Lethality']] = [np.nan, np.nan]\n",
    "    IOUtils.saveDataFrame(batchCodeTable, '../docs/data/batchCodeTables/' + country)\n",
    "    # display(country + \":\", batchCodeTable)\n",
    "    display(country)\n",
    "\n",
    "def createAndSaveBatchCodeTablesForCountries(createBatchCodeTableForCountry, countries, minADRsForLethality = None):\n",
    "    for country in countries:\n",
    "        createAndSaveBatchCodeTableForCountry(createBatchCodeTableForCountry, country, minADRsForLethality)"
   ]
  },
  {
   "cell_type": "code",
   "execution_count": null,
   "id": "cc1ef82a",
   "metadata": {},
   "outputs": [],
   "source": [
    "def getCountryOptions(countries):\n",
    "    return [getCountryOption(country) for country in countries]\n",
    "\n",
    "def getCountryOption(country):\n",
    "    return '<option value=\"{country}\">{country}</option>'.format(country = country)"
   ]
  },
  {
   "cell_type": "code",
   "execution_count": null,
   "id": "0c4d04fb",
   "metadata": {},
   "outputs": [],
   "source": [
    "countries = sorted(internationalVaersCovid19['COUNTRY'].unique())\n",
    "countryOptions = ['<option value=\"Global\" selected>Global</option>']  + getCountryOptions(countries)"
   ]
  },
  {
   "cell_type": "code",
   "execution_count": null,
   "id": "8d6507ca",
   "metadata": {},
   "outputs": [],
   "source": [
    "saveCountryOptions(countryOptions)"
   ]
  },
  {
   "cell_type": "code",
   "execution_count": null,
   "id": "9c7485b5",
   "metadata": {},
   "outputs": [],
   "source": [
    "saveLastUpdatedBatchCodeTable(dateProvider.getLastUpdatedDataSource())"
   ]
  },
  {
   "cell_type": "code",
   "execution_count": null,
   "id": "7e7e01a5",
   "metadata": {},
   "outputs": [],
   "source": [
    "minADRsForLethality = 100\n",
    "batchCodeTableFactory = BatchCodeTableFactory(internationalVaersCovid19)\n",
    "\n",
    "createAndSaveBatchCodeTablesForCountries(\n",
    "    createBatchCodeTableForCountry = lambda country: batchCodeTableFactory.createBatchCodeTableByCountry(country),\n",
    "    countries = countries,\n",
    "    minADRsForLethality = minADRsForLethality)\n",
    "\n",
    "createAndSaveBatchCodeTableForCountry(\n",
    "    createBatchCodeTableForCountry = lambda country: batchCodeTableFactory.createGlobalBatchCodeTable(),\n",
    "    country = 'Global',\n",
    "    minADRsForLethality = minADRsForLethality)"
   ]
  },
  {
   "cell_type": "code",
   "execution_count": null,
   "id": "8de69f66",
   "metadata": {},
   "outputs": [],
   "source": [
    "def publishGitHubPages():\n",
    "    %cd /home/frankknoll/Dokumente/Corona/projects/HowBadIsMyBatch-pages\n",
    "    ! git add -A\n",
    "    ! git commit -m \"updating data for batch codes\"\n",
    "    ! git push"
   ]
  },
  {
   "cell_type": "markdown",
   "id": "3c7319f3",
   "metadata": {},
   "source": [
    "### see https://knollfrank.github.io/HowBadIsMyBatch/batchCodeTable.html"
   ]
  },
  {
   "cell_type": "code",
   "execution_count": null,
   "id": "865df645",
   "metadata": {},
   "outputs": [],
   "source": [
    "publishGitHubPages()"
   ]
  }
 ],
 "metadata": {
  "kernelspec": {
   "display_name": "Python 3.10.7 64-bit",
   "language": "python",
   "name": "python3"
  },
  "language_info": {
   "codemirror_mode": {
    "name": "ipython",
    "version": 3
   },
   "file_extension": ".py",
   "mimetype": "text/x-python",
   "name": "python",
   "nbconvert_exporter": "python",
   "pygments_lexer": "ipython3",
   "version": "3.10.7"
  },
  "vscode": {
   "interpreter": {
    "hash": "31f2aee4e71d21fbe5cf8b01ff0e069b9275f58929596ceb00d14d90e3e16cd6"
   }
  }
 },
 "nbformat": 4,
 "nbformat_minor": 5
}
